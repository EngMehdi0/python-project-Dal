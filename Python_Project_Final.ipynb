{
 "cells": [
  {
   "cell_type": "markdown",
   "id": "3b3b8d9f-0f28-4026-9743-4922b90c520a",
   "metadata": {},
   "source": [
    "<br><br><br>\n",
    "<p style=\"text-align: center; display: flex; flex-direction: column; align-items: center;\">\n",
    "    <img src=\"L.png\" alt=\"L\" style=\"display: block; margin: 0 auto; width: 101px; height: 104px;\">\n",
    "    <img src=\"Dal.png\" width=\"200\" height=\"220\" alt=\"Logo\" style=\"display: block; margin: 0 auto 90px;\"> <!-- Larger middle image -->\n",
    "    <img src=\"logo.png\" alt=\"Sudoku\" style=\"display: block; margin: 0 auto; width: 101px; height: 104px;\">\n",
    "</p>\n",
    "\n",
    "\n",
    "\n",
    " <p style=\"text-align: center;\">\n",
    "    <span style=\"font-size: 20px; font-weight: bold;\">Python Project</span>\n",
    "</p>\n",
    "\n",
    "</p>\n",
    "\n",
    "\n",
    "\n",
    "\n",
    "<div style=\"text-align: center; background-color: red; color: white; padding: 15px; border-radius: 10px;\">\n",
    "    <h2> Smart Industrial Alarm System (Telegram Alerts)</h2>\n",
    "    <br>\n",
    "    <h7>  Python for Engineers  </h7>\n",
    "    \n",
    "</div>\n",
    "\n",
    "\n",
    "\n",
    "\n",
    "\n",
    "\n",
    "\n",
    "<br><br><br> <!-- Slight space before the table -->\n",
    "\n",
    "<table style=\"width:94%; margin: auto; margin-top: 30px; border-collapse: collapse;\"> \n",
    "  <tr>\n",
    "    <th style=\"text-align: left; width: 45%;\"><i>Authors:</i></th> <!-- Set column width -->\n",
    "    <th style=\"text-align: right; width: 45%;\"><i>Supervisor:</i></th> <!-- Set column width -->\n",
    "  </tr>\n",
    "  <tr>\n",
    "    <td style=\"background-color: skyblue; padding: 9px; border-radius: 20px;\">\n",
    "      <b><i>Mehdi Alizadeh (B01028349)</b> (<a href=\"mailto:mh403744@dal.ca\">mh403744@dal.ca</a>)</i><br><br>\n",
    "      <b><i>Solaleh Sabetkar (B00982258)</b> (<a href=\"mailto:sl386583@dal.ca\">sl386583@dal.ca</a>)</i>\n",
    "    </td>\n",
    "    <td style=\"text-align: right; background-color: lightgray; padding: 8px; border-radius: 10px;\">\n",
    "      <b><i>Prof. Issam Hammad</i></b>\n",
    "    </td>\n",
    "  </tr>\n",
    "</table>\n",
    "\n",
    "\n",
    "<br><br><br><br><br><br><br><br><br><br><br><br>\n",
    "<p style=\"text-align: center;\"><i>March 2025</i></p>\n",
    "\n",
    "<hr>\n",
    "\n",
    "\n",
    "\n",
    "\n",
    "\n",
    "\n",
    "\n",
    "\n"
   ]
  },
  {
   "cell_type": "markdown",
   "id": "644807a5-0011-4da4-a988-e8188415ffc3",
   "metadata": {},
   "source": [
    "<div style=\"background-color:skyblue; padding:10px; border-radius:5px;\">  \n",
    "  <p><strong> Code Explanation </strong></p>  \n",
    "</div>"
   ]
  },
  {
   "cell_type": "markdown",
   "id": "126bde25-56dc-4dde-a1db-d2517a7d7c3d",
   "metadata": {},
   "source": [
    "In this program, we want to monitor and alert the system for industrial use. It continuously tracks one or more parameters (temperature, humidity, gas, or machine status) via sensors and data sent from a PLC (Programmable Logic Controller), which is an electrical device used for automation in the industry. In this program, we will track temperature as an example.  \n",
    "\n",
    "We also designed the system to send data to a Telegram group at predefined intervals. After a certain period, the messages are deleted to keep the group organized and ensure the data remains up to date. Additionally, we implemented an Excel output for each day, generating and sending a diagram to the group for data visualization. This allows for saving and comparing data on a monthly or other periodic basis. Each data value is sent along with its corresponding measurement.  \n",
    "\n",
    "Besides this, when an anomaly or predefined threshold is exceeded, the system will also automatically send real-time alerts to a Telegram user or group.  "
   ]
  },
  {
   "cell_type": "markdown",
   "id": "1e4ebede-318b-4bca-bb5c-af8d1f73cab6",
   "metadata": {},
   "source": [
    "<div style=\"background-color:skyblue; padding:10px; border-radius:5px;\">  \n",
    "  <p><strong>1. Import Libraries</strong></p>  \n",
    "</div>"
   ]
  },
  {
   "cell_type": "code",
   "execution_count": 1,
   "id": "e087f4d3-f676-4f14-ae31-74e38f12e461",
   "metadata": {},
   "outputs": [],
   "source": [
    "import time\n",
    "import requests\n",
    "import random\n",
    "import pandas as pd\n",
    "import matplotlib.pyplot as plt\n",
    "from datetime import datetime"
   ]
  },
  {
   "cell_type": "markdown",
   "id": "99c3842c-7692-4ab4-b9a1-972663d7cf40",
   "metadata": {},
   "source": [
    "- **`time`**: This module includes a variety of functions for dealing with time. It is commonly used to calculate execution time, add delays, and manage timestamps.\n",
    "\n",
    "- **`requests`**: requests is a powerful library for creating HTTP requests. Python is widely used to retrieve data from web APIs, send POST requests, and manage HTTP connections.  \n",
    "\n",
    "- **`random`**: This module generates random numbers and selects random elements. It is suitable for simulations, random sampling, and probability-based algorithms.\n",
    "\n",
    "- **`pandas as pd`**: An indispensable library for data analysis and manipulation. Pandas supports structures such as DataFrames, making it simple to work with and transform structured data. \n",
    "\n",
    "- **`matplotlib.pyplot as plt`**: This module is part of the Matplotlib library and is used to generate plots, graphs, and charts. It is necessary for visualizing and analyzing data trends.\n",
    "\n",
    "- **`from datetime import datetime`**: This class from the datetime module is used to manage dates and times. It enables you to work with timestamps, format dates, and perform time-related calculations."
   ]
  },
  {
   "cell_type": "markdown",
   "id": "ca2b4a79-ef13-41ba-96e7-23f4d7021963",
   "metadata": {},
   "source": [
    "<div style=\"background-color:skyblue; padding:10px; border-radius:5px;\">  \n",
    "  <p><strong>2. Telegram Bot Configuration</strong></p>  \n",
    "</div>"
   ]
  },
  {
   "cell_type": "code",
   "execution_count": 4,
   "id": "bb9e2bcf-6737-4460-ac47-9962c30c98a9",
   "metadata": {},
   "outputs": [],
   "source": [
    "TELEGRAM_BOT_TOKEN = \"7562679458:AAGUNriSJ5hcpWGAPd5qI7ClYPmm-y6NpRM\"\n",
    "TELEGRAM_CHAT_ID = \"-1002260119314\""
   ]
  },
  {
   "cell_type": "markdown",
   "id": "d7363be7-59c7-460d-80da-ce001a52a86e",
   "metadata": {},
   "source": [
    "- **`TELEGRAM_BOT_TOKEN =`**: This defines a string variable that stores the authentication token for a Telegram bot. The token is a unique identifier assigned by Telegram's BotFather and is required to interact with the Telegram Bot API.  \n",
    "\n",
    "- **`TELEGRAM_CHAT_ID =`**: This variable is intended to store the chat ID of a specific Telegram user or group. The chat ID is essential for sending messages, as it tells the bot where to deliver content. It is usually obtained by interacting with the bot or querying the Telegram API."
   ]
  },
  {
   "cell_type": "markdown",
   "id": "677657d0-8acf-4951-815b-2646ebb0b22a",
   "metadata": {},
   "source": [
    "<div style=\"background-color:skyblue; padding:10px; border-radius:5px;\">  \n",
    "  <p><strong>3. Telegram and PLC Configuration</strong></p>  \n",
    "</div>"
   ]
  },
  {
   "cell_type": "code",
   "execution_count": 7,
   "id": "7597af6b-5fe8-4ad7-b665-094d73dd17b5",
   "metadata": {},
   "outputs": [
    {
     "data": {
      "text/plain": [
       "'from pymodbus.client import ModbusTcpClient\\n\\n# Configure PLC Connection\\nPLC_IP = \"192.168.1.100\"  # Replace this with our PLC\\'s IP\\nPLC_PORT = 502            # Default Modbus TCP port\\nMODBUS_REGISTER = 0        # Register address to read\\n\\ndef read_sensor():\\n    \"\"\"Reads data from PLC using Modbus TCP.\"\"\"\\n    try:\\n        client = ModbusTcpClient(PLC_IP, port=PLC_PORT)\\n        client.connect()\\n        \\n        # Read Holding Register (MODBUS_REGISTER)\\n        response = client.read_holding_registers(MODBUS_REGISTER, 1)\\n        client.close()\\n\\n        if response.isError():\\n            print(\"❌ Modbus Error:\", response)\\n            return None\\n\\n        sensor_value = response.registers[0]  # Get the register value\\n        return sensor_value\\n\\n    except Exception as e:\\n        print(\"❌ Error reading from PLC:\", e)\\n        return None \\n'"
      ]
     },
     "execution_count": 7,
     "metadata": {},
     "output_type": "execute_result"
    }
   ],
   "source": [
    "'''from pymodbus.client import ModbusTcpClient\n",
    "\n",
    "# Configure PLC Connection\n",
    "PLC_IP = \"192.168.1.100\"  # Replace this with our PLC's IP\n",
    "PLC_PORT = 502            # Default Modbus TCP port\n",
    "MODBUS_REGISTER = 0        # Register address to read\n",
    "\n",
    "def read_sensor():\n",
    "    \"\"\"Reads data from PLC using Modbus TCP.\"\"\"\n",
    "    try:\n",
    "        client = ModbusTcpClient(PLC_IP, port=PLC_PORT)\n",
    "        client.connect()\n",
    "        \n",
    "        # Read Holding Register (MODBUS_REGISTER)\n",
    "        response = client.read_holding_registers(MODBUS_REGISTER, 1)\n",
    "        client.close()\n",
    "\n",
    "        if response.isError():\n",
    "            print(\"❌ Modbus Error:\", response)\n",
    "            return None\n",
    "\n",
    "        sensor_value = response.registers[0]  # Get the register value\n",
    "        return sensor_value\n",
    "\n",
    "    except Exception as e:\n",
    "        print(\"❌ Error reading from PLC:\", e)\n",
    "        return None \n",
    "'''"
   ]
  },
  {
   "cell_type": "markdown",
   "id": "ddea9dfe-5de6-41ae-bcb6-5c6deb61caf8",
   "metadata": {},
   "source": [
    "- **`from pymodbus.client import ModbusTcpClient`**: This imports 'ModbusTcpClient' from the 'pymodbus' package.  'pymodbus' is a Python library for connecting with devices that use the Modbus protocol, which is widely used in industrial automation. \n",
    "\n",
    "- **`PLC_IP = \"192.168.1.100\"`**: This specifies the IP address of the Programmable Logic Controller (PLC) with which the Modbus client will communicate.  Replace the IP address with the real address of the PLC in your network.\n",
    "\n",
    "- **`PLC_PORT = 502`**: This indicates the port number used for Modbus TCP communication.  The default Modbus TCP port is '502'. \n",
    "\n",
    "- **`MODBUS_REGISTER = 0`**: This variable specifies the address of the register that will be read from the PLC.  Modbus devices store data in registers, which can be accessed using read/write operations. \n",
    "\n",
    "- **`def read_sensor():`**: This function is responsible for reading sensor data from the PLC via the Modbus TCP protocol.  \n",
    "\n",
    "- **`client = ModbusTcpClient(PLC_IP, port=PLC_PORT)`**: This creates a 'ModbusTcpClient' instance and establishes a connection to the PLC via the supplied IP address and port. \n",
    "\n",
    "- **`client.connect()`**: This establishes the connection to the PLC.  If the connection fails, any subsequent operations will be rendered ineffective. \n",
    "\n",
    "- **`response = client.read_holding_registers(MODBUS_REGISTER, 1)`**: This initiates a request to read one value from the holding register at the provided 'MODBUS_REGISTER' location.  Holding registers are frequently used in Modbus devices to store sensor readings and other operational information.  \n",
    "\n",
    "- **`client.close()`**: This closes the Modbus connection once the read process is completed, saving up network resources.  \n",
    "\n",
    "- **`if response.isError():`**: This verifies whether the response contains an error.  If an issue occurs, it displays an error message before returning 'None'.  \n",
    "\n",
    "- **`sensor_value = response.registers[0]`**: If the read operation is successful, it retrieves the first value from the response, which contains the sensor data.  \n",
    "\n",
    "- **`return sensor_value`**: This returns the retrieved sensor value, allowing other parts of the application to access it.  \n",
    "\n",
    "- **`except Exception as e:`**: This handles any unexpected problems that may occur while communicating with the PLC, ensuring that the program does not crash if an issue happens.   "
   ]
  },
  {
   "cell_type": "code",
   "execution_count": 9,
   "id": "0a36d369-3b9f-498b-a1aa-cbb0ec8129c4",
   "metadata": {},
   "outputs": [],
   "source": [
    "# as we dont have PLC or industrial Equipment we simulate it\n",
    "\n",
    "# Alarm Threshold\n",
    "THRESHOLD = 30\n",
    "\n",
    "# Store last sent message ID to update/delete\n",
    "last_message_id = None\n",
    "\n",
    "# Store last sent value to prevent duplicate messages\n",
    "last_sent_value = None\n",
    "\n",
    "# Function to Simulate Sensor Data\n",
    "read_sensor = lambda: random.randint(-20, 50)\n",
    "\n",
    "# Function to Send or Update Telegram Message\n",
    "def send_or_update_telegram_message(sensor_value):\n",
    "    global last_message_id\n",
    "    message = f\"\"\"\n",
    "📡 *Sensor Status Update*\n",
    "🔹 *Current Value:* {sensor_value}\n",
    "🔹 *Threshold Limit:* {THRESHOLD}\n",
    "📅 *Time:* {time.ctime()}\n",
    "\"\"\"\n",
    "\n",
    "    url_send, url_delete = [\n",
    "        f\"https://api.telegram.org/bot{TELEGRAM_BOT_TOKEN}/{action}\"\n",
    "        for action in (\"sendMessage\", \"deleteMessage\")\n",
    "    ]\n",
    "    data = {\"chat_id\": TELEGRAM_CHAT_ID, \"text\": message, \"parse_mode\": \"Markdown\"}\n",
    "    \n",
    "    try:\n",
    "        # Delete previous message if exists\n",
    "        if last_message_id:\n",
    "            requests.post(url_delete, data={\"chat_id\": TELEGRAM_CHAT_ID, \"message_id\": last_message_id})\n",
    "        \n",
    "        # Send new message\n",
    "        response = requests.post(url_send, data=data)\n",
    "        if response.status_code == 200:\n",
    "            last_message_id = response.json().get(\"result\", {}).get(\"message_id\")  # Store message ID\n",
    "            print(\"✅ Sensor update sent successfully!\")\n",
    "        else:\n",
    "            print(f\"❌ Failed to send sensor update: {response.text}\")\n",
    "    except Exception as e:\n",
    "        print(f\"❌ Error sending Telegram message: {e}\")\n",
    "\n"
   ]
  },
  {
   "cell_type": "markdown",
   "id": "ea8236c7-bd71-40c8-84fb-e3d140006c6d",
   "metadata": {},
   "source": [
    "- **`THRESHOLD = 30`**: This determines the alarm threshold value.  If the sensor value exceeds this limit, an alert is issued.  \n",
    "\n",
    "- **`last_message_id = None`**: This variable contains the ID of the most recent Telegram message that was sent.  It allows you to update or delete old messages before sending a new one.   \n",
    "\n",
    "- **`last_sent_value = None`**: This keeps track of the last sensor value sent in order to avoid sending redundant messages while the value remains constant.  \n",
    "\n",
    "- **`read_sensor = lambda: random.randint(-20, 50)`**: This creates a lambda function that simulates reading sensor data by producing a random integer between -20 and 50.  This simulates real-world sensor fluctuations.  \n",
    "\n",
    "- **`send_or_update_telegram_message(sensor_value)`**: This function sends or updates a Telegram message based on the sensor value.  \n",
    "  - **`message`**: A Markdown-formatted string containing the sensor value, threshold, and timestamps.  \n",
    "  - **`url_send, url_delete`**: These provide API endpoints for sending and removing Telegram messages with the bot's token.   \n",
    "  - **`data`**: To properly format a message in Telegram, use a dictionary that includes the conversation ID, message text, and parse mode.   \n",
    "  - **`requests.post(url_delete, ...)`**: If a previous message exists, this API call removes it to keep numerous notifications from cluttering the chat.  \n",
    "  - **`requests.post(url_send, data=data)`**: Sends a new Telegram message containing the modified sensor value.  \n",
    "  - **`last_message_id = response.json().get(\"result\", {}).get(\"message_id\")`**: If the message is successfully transmitted, the message ID is saved for future updates.  \n",
    "  - **`Exception Handling`**: If an error occurs when sending the message, it displays an error message to indicate the problem.  "
   ]
  },
  {
   "cell_type": "markdown",
   "id": "b8e1539b-89ca-451d-a302-cf397b6f84e5",
   "metadata": {},
   "source": [
    "<div style=\"background-color:skyblue; padding:10px; border-radius:5px;\">  \n",
    "  <p><strong>4. Function to Generate Excel Chart</strong></p>  \n",
    "</div>"
   ]
  },
  {
   "cell_type": "code",
   "execution_count": 12,
   "id": "a3b937dc-ee99-43e4-8f3c-608456eeaf73",
   "metadata": {},
   "outputs": [],
   "source": [
    "# ✅ Function to Log Sensor Data\n",
    "def log_data(sensor_value):\n",
    "    timestamp = datetime.now().strftime(\"%Y-%m-%d %H:%M:%S\")\n",
    "    sensor_data.append({\"Time\": timestamp, \"Value\": sensor_value})\n",
    "\n",
    "def save_and_send_chart():\n",
    "    if not sensor_data:  # Check if list is empty\n",
    "        print(\"⚠️ No data available to save or plot.\")\n",
    "        return\n",
    "\n",
    "    df = pd.DataFrame(sensor_data)\n",
    "    print(df.head())  # Debugging: Print first few rows\n",
    "\n",
    "    if \"Time\" not in df.columns or \"Value\" not in df.columns:\n",
    "        print(\"❌ Error: Missing 'Time' or 'Value' column in DataFrame.\")\n",
    "        return\n",
    "\n",
    "    # Save to Excel\n",
    "    excel_filename = \"daily_sensor_data.xlsx\"\n",
    "    df.to_excel(excel_filename, index=False)\n",
    "\n",
    "    # Generate Chart\n",
    "    plt.figure(figsize=(10, 5))\n",
    "    plt.plot(df[\"Time\"], df[\"Value\"], marker=\"o\", linestyle=\"-\", color=\"r\", label=\"Sensor Value\")\n",
    "    plt.axhline(THRESHOLD, color=\"b\", linestyle=\"--\", label=\"Threshold\")\n",
    "    plt.xlabel(\"Time\")\n",
    "    plt.ylabel(\"Sensor Value\")\n",
    "    plt.title(\"Daily Sensor Data\")\n",
    "    plt.xticks(rotation=45)\n",
    "    plt.legend()\n",
    "    plt.grid()\n",
    "    \n",
    "    chart_filename = \"daily_sensor_chart.png\"\n",
    "    plt.savefig(chart_filename)\n",
    "    plt.close()\n",
    "\n",
    "    # Send Chart to Telegram\n",
    "    send_chart_to_telegram(chart_filename)\n",
    "\n",
    "\n",
    "# ✅ Function to Send Chart to Telegram\n",
    "def send_chart_to_telegram(image_path):\n",
    "    url = f\"https://api.telegram.org/bot{TELEGRAM_BOT_TOKEN}/sendPhoto\"\n",
    "    with open(image_path, \"rb\") as image:\n",
    "        files = {\"photo\": image}\n",
    "        data = {\"chat_id\": TELEGRAM_CHAT_ID}\n",
    "        response = requests.post(url, data=data, files=files)\n",
    "\n",
    "    if response.status_code == 200:\n",
    "        print(\"✅ Chart sent successfully!\")\n",
    "    else:\n",
    "        print(f\"❌ Failed to send chart: {response.text}\")\n"
   ]
  },
  {
   "cell_type": "markdown",
   "id": "6279dab9-18f8-42b6-808a-6e92ae003a1a",
   "metadata": {},
   "source": [
    "- **`log_data(sensor_value)`**: This function saves sensor data by adding it to a list.  It captures the current timestamp and connects it with the sensor value.  \n",
    "- **`datetime.now().strftime(\"%Y-%m-%d %H:%M:%S\")`**: This returns the current date and time in a human-readable format (YYYY-MM-DD HH:MM:SS).  The timestamp ensures that each sensor reading is correctly timestamped.  \n",
    "- **`sensor_data.append({\"Time\": timestamp, \"Value\": sensor_value})`**: This records the sensor reading as a dictionary that includes both the timestamp and the sensor value.  The data is added to'sensor_data', a list that stores all logged readings for future analysis.  \n",
    "- **`pandas as pd`**:This imports the Pandas library, which is required for data manipulation and analysis.  It includes strong data structures like DataFrames, which make it simple to work with structured data such as sensor readings.  \n",
    "- **`matplotlib.pyplot as plt`**: This imports Matplotlib, a powerful plotting tool.  It allows for the visualization of data using several chart formats such as line plots, bar charts, and histograms.  \n",
    "- **`df = pd.DataFrame(sensor_data)`**: Converts sensor data to a Pandas DataFrame for easier data processing and analysis.  \n",
    "- **`df.to_excel(excel_filename, index=False)`**: Saves the DataFrame into an Excel file, removing the default index column.  This guarantees that the data is well-structured and easily accessible.  \n",
    "- **`plt.plot(df[\"Time\"], df[\"Value\"], marker=\"o\", linestyle=\"-\", color=\"r\", label=\"Sensor Value\")`**: Creates a line plot in which the x-axis represents time and the y-axis represents sensor values.  The red color and marks improve reading.  \n",
    "- **`plt.axhline(THRESHOLD, color=\"b\", linestyle=\"--\", label=\"Threshold\")`**: Adds a horizontal dashed blue line at the threshold value, visually indicating critical sensor limits.  \n",
    "- **`plt.savefig(chart_filename)`**: Saves the generated chart as a PNG image, allowing it to be shared or saved for later use.  \n",
    "- **`send_chart_to_telegram(chart_filename)`**: Calls a function to send the generated chart to a Telegram chat. This automates data sharing and notification.  \n",
    "- **`requests.post(url, data=data, files=files)`**: Sends an HTTP POST request to the Telegram Bot API to upload and distribute the chart picture in the chosen chat.  "
   ]
  },
  {
   "cell_type": "markdown",
   "id": "58978914-379f-4be3-a364-11b25cdd9e0c",
   "metadata": {},
   "source": [
    "<div style=\"background-color:skyblue; padding:10px; border-radius:5px;\">  \n",
    "  <p><strong>5. Function to Check Alarm Condition</strong></p>  \n",
    "</div>"
   ]
  },
  {
   "cell_type": "code",
   "execution_count": 20,
   "id": "62ec5cd7-6467-4bcb-85d5-b5026d70adc5",
   "metadata": {},
   "outputs": [],
   "source": [
    "def check_alarm():\n",
    "    global last_sent_value\n",
    "    sensor_value = read_sensor()\n",
    "    print(f\"📊 Sensor Value: {sensor_value}\")\n",
    "\n",
    "    log_data(sensor_value)  # ✅ Ensure data is logged before saving\n",
    "\n",
    "    if sensor_value != last_sent_value:\n",
    "        last_sent_value = sensor_value\n",
    "        send_or_update_telegram_message(sensor_value)\n"
   ]
  },
  {
   "cell_type": "markdown",
   "id": "0e8383fd-c52b-4f27-a08c-99843e6d020b",
   "metadata": {},
   "source": [
    "- **`check_alarm()`**: This function monitors sensor values and determines whether an alert should be sent. It ensures messages are only sent when the sensor reading changes.  \n",
    "- **`global last_sent_value`**: This declares `last_sent_value` as a global variable, allowing the function to track the last recorded sensor value across multiple calls.  \n",
    "- **`sensor_value = read_sensor()`**: This retrieves the current sensor reading by calling the `read_sensor()` function. The sensor value is essential for detecting changes in environmental conditions.  \n",
    "- **`print(f\"📊 Sensor Value: {sensor_value}\")`**: This logs the sensor value to the console for monitoring purposes, helping users track real-time sensor data.  \n",
    "- **`if sensor_value != last_sent_value:`**: This condition checks whether the new sensor value differs from the last recorded value, ensuring alerts are only sent for changes.  \n",
    "- **`last_sent_value = sensor_value`**: This updates the last recorded sensor value, preventing redundant notifications.  \n",
    "- **`send_or_update_telegram_message(sensor_value)`**: This function is responsible for sending or updating a message on Telegram, alerting users about the sensor status in real time.  "
   ]
  },
  {
   "cell_type": "markdown",
   "id": "139ccf83-6d95-47e8-891c-072c022f0c44",
   "metadata": {},
   "source": [
    "<div style=\"background-color:skyblue; padding:10px; border-radius:5px;\">  \n",
    "  <p><strong>6. Continuous Monitoring Loop and Send chart every 24 hour</strong></p>  \n",
    "</div>"
   ]
  },
  {
   "cell_type": "code",
   "execution_count": null,
   "id": "d73c765c-b8a1-4cd1-8093-f944addb83a5",
   "metadata": {},
   "outputs": [
    {
     "name": "stdout",
     "output_type": "stream",
     "text": [
      "🔄 Starting Smart Industrial Alarm System...\n",
      "📊 Sensor Value: 44\n",
      "✅ Sensor update sent successfully!\n",
      "📊 Sensor Value: 40\n",
      "✅ Sensor update sent successfully!\n",
      "                  Time  Value\n",
      "0  2025-03-03 20:23:58     44\n",
      "1  2025-03-03 20:24:58     40\n",
      "✅ Chart sent successfully!\n",
      "📊 Sensor Value: -13\n",
      "✅ Sensor update sent successfully!\n",
      "📊 Sensor Value: 32\n",
      "✅ Sensor update sent successfully!\n",
      "                  Time  Value\n",
      "0  2025-03-03 20:26:00    -13\n",
      "1  2025-03-03 20:27:00     32\n",
      "✅ Chart sent successfully!\n",
      "📊 Sensor Value: 21\n",
      "✅ Sensor update sent successfully!\n",
      "📊 Sensor Value: 29\n",
      "✅ Sensor update sent successfully!\n",
      "                  Time  Value\n",
      "0  2025-03-03 20:28:02     21\n",
      "1  2025-03-03 20:29:02     29\n",
      "✅ Chart sent successfully!\n",
      "📊 Sensor Value: 41\n",
      "✅ Sensor update sent successfully!\n",
      "📊 Sensor Value: 8\n",
      "✅ Sensor update sent successfully!\n"
     ]
    }
   ],
   "source": [
    "print(\"🔄 Starting Smart Industrial Alarm System...\")\n",
    "\n",
    "\n",
    "start_time = time.time()  # ✅ Initialize start_time\n",
    "sensor_data = []\n",
    "\n",
    "while True:\n",
    "    check_alarm()\n",
    "    time.sleep(60)  # Check every 60 seconds\n",
    "\n",
    "    \n",
    "    if time.time() - start_time >= 86400:\n",
    "        save_and_send_chart()\n",
    "        sensor_data.clear()  # ✅ Reset data\n",
    "        start_time = time.time()"
   ]
  },
  {
   "cell_type": "markdown",
   "id": "6c233ef9-b73f-43e4-9f1b-39a907a2a9db",
   "metadata": {},
   "source": [
    "- **`print(\"🔄 Starting Smart Industrial Alarm System...\")`**: This line sends a message to the console, indicating that the Smart Industrial Alarm System has started.  It gives the user a visual indication that the system is presently running.  \n",
    "\n",
    "- **`while True:`**: This generates an indefinite loop, guaranteeing that the monitoring system continues to function without interruption.  The loop enables the alarm system to continuously monitor circumstances and respond appropriately.  \n",
    "\n",
    "- **`check_alarm()`**: This function call invokes the 'check_alarm()' function, which is responsible for determining alarm circumstances.  It most likely examines sensor data, checks thresholds, and determines whether an alert should be generated.  \n",
    "\n",
    "- **`time.sleep(60)`**: This pauses the cycle for 60 seconds before rechecking the alarm conditions.  By providing this delay, the system prevents needless fast checks, maximizing resource use while ensuring timely monitoring.\n",
    "\n",
    "- **`time.time()`**: This method in the 'time' module returns the current time in seconds since the epoch (Unix timestamp).  It is frequently used to measure time intervals.  \n",
    "- **`start_time`**: When the script starts or data is reset, a variable is created that stores the initial timestamp.  It is useful for keeping track of elapsed time.   \n",
    "- **`time.time() - start_time >= 86400`**: This condition determines whether 24 hours (86400 seconds) have passed since the last recorded'start_time'.  If true, the following steps are taken.  \n",
    "- **`save_and_send_chart()`**: This function is invoked to save and send the graphic, which most likely summarizes the sensor data acquired over the previous 24 hours.  \n",
    "- **`sensor_data.clear()`**: This command clears the'sensor_data' list or dictionary, removing old data prior to gathering fresh data for the following cycle.   \n",
    "- **`start_time = time.time()`**: This sets'start_time' to the current timestamp, indicating the start of a new 24-hour period.  "
   ]
  }
 ],
 "metadata": {
  "kernelspec": {
   "display_name": "Python [conda env:base] *",
   "language": "python",
   "name": "conda-base-py"
  },
  "language_info": {
   "codemirror_mode": {
    "name": "ipython",
    "version": 3
   },
   "file_extension": ".py",
   "mimetype": "text/x-python",
   "name": "python",
   "nbconvert_exporter": "python",
   "pygments_lexer": "ipython3",
   "version": "3.12.7"
  }
 },
 "nbformat": 4,
 "nbformat_minor": 5
}
